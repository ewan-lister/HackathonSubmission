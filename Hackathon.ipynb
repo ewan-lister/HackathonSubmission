{
 "cells": [
  {
   "cell_type": "code",
   "execution_count": 1,
   "metadata": {},
   "outputs": [
    {
     "ename": "ModuleNotFoundError",
     "evalue": "No module named 'qsharp'",
     "output_type": "error",
     "traceback": [
      "\u001b[0;31m---------------------------------------------------------------------------\u001b[0m",
      "\u001b[0;31mModuleNotFoundError\u001b[0m                       Traceback (most recent call last)",
      "Input \u001b[0;32mIn [1]\u001b[0m, in \u001b[0;36m<cell line: 1>\u001b[0;34m()\u001b[0m\n\u001b[0;32m----> 1\u001b[0m \u001b[38;5;28;01mimport\u001b[39;00m \u001b[38;5;21;01mqsharp\u001b[39;00m\n\u001b[1;32m      2\u001b[0m \u001b[38;5;28;01mfrom\u001b[39;00m \u001b[38;5;21;01mqsharp\u001b[39;00m \u001b[38;5;28;01mimport\u001b[39;00m azure\n\u001b[1;32m      3\u001b[0m \u001b[38;5;28;01mimport\u001b[39;00m \u001b[38;5;21;01mmatplotlib\u001b[39;00m\u001b[38;5;21;01m.\u001b[39;00m\u001b[38;5;21;01mpyplot\u001b[39;00m \u001b[38;5;28;01mas\u001b[39;00m \u001b[38;5;21;01mplt\u001b[39;00m\n",
      "\u001b[0;31mModuleNotFoundError\u001b[0m: No module named 'qsharp'"
     ]
    }
   ],
   "source": [
    "\n",
    "import qsharp\n",
    "from qsharp import azure\n",
    "import matplotlib.pyplot as plt"
   ]
  },
  {
   "cell_type": "code",
   "execution_count": null,
   "metadata": {},
   "outputs": [],
   "source": [
    "%%qsharp \n",
    "open Microsoft.Quantum.Diagnostics; \n",
    "open Microsoft.Quantum.Canon;\n",
    "open Microsoft.Quantum.Arrays;\n",
    "open Microsoft.Quantum.Random;"
   ]
  },
  {
   "cell_type": "code",
   "execution_count": null,
   "metadata": {},
   "outputs": [],
   "source": [
    "%%qsharp\n",
    "/// # Summary\n",
    "/// A phase oracle which applies a negative phase to \n",
    "/// the states where no adjacent bits are equal.\n",
    "///\n",
    "/// # Input \n",
    "/// ## qs \n",
    "/// The qubits the oracle is applied to. \n",
    "\n",
    "operation AlternatingBitStringOracle(qs : Qubit[]) : Unit { \n",
    "    // We first apply a CNOT gate between each pair of adjacent qubits\n",
    "    // to calculate qs[i] XOR qs[i-1] and store the result in qs[i-1].\n",
    "    // Next, we apply a CZ to the output of all of these XOR operations\n",
    "    // flipping the phase of the state where each XOR evaluates to 1.\n",
    "    // Then we uncompute the previous CNOT gates to return the phase\n",
    "    // to the target states. \n",
    "\n",
    "    // The within-apply statement does 3 things:\n",
    "    // 1. Performs the operations in the within block.\n",
    "    // 2. Performs the operations in the apply block.\n",
    "    // 3. Calculates and performs the adjoint of the within block.\n",
    "    Controlled Z(Most(qs), Tail(qs));\n",
    "}"
   ]
  },
  {
   "cell_type": "code",
   "execution_count": null,
   "metadata": {},
   "outputs": [],
   "source": [
    "%%qsharp\n",
    "/// # Summary\n",
    "/// Grover's diffusion operator.\n",
    "///\n",
    "/// # Input\n",
    "/// ## qs\n",
    "/// The qubit array the diffusion operator is applied to.\n",
    "\n",
    "operation Diffusion(qs : Qubit[]) : Unit {\n",
    "    within {\n",
    "        ApplyToEachA(H, qs);\n",
    "        ApplyToEachA(X, qs);\n",
    "    } apply {\n",
    "        // Most gives us every array element except the last.\n",
    "        // Tail gives us the last array element.\n",
    "        Controlled Z(Most(qs), Tail(qs));\n",
    "    }\n",
    "}"
   ]
  },
  {
   "cell_type": "code",
   "execution_count": null,
   "metadata": {},
   "outputs": [],
   "source": [
    "%%qsharp\n",
    "/// # Summary\n",
    "/// The top-level operation for this implementation. \n",
    "/// Applies the oracle and the diffusion operator multiple times.\n",
    "///\n",
    "/// # Input\n",
    "/// ## iterations\n",
    "/// The number of times to apply the oracle and the diffusion operator.\n",
    "/// ## N \n",
    "/// The number of bits in the bit strings. Our search space size is then 2^N.\n",
    "///\n",
    "/// # Output\n",
    "/// A Result[] type which contains the measurement result of each\n",
    "/// qubit that was allocated. \n",
    "\n",
    "operation Grovers(iterations : Int, N : Int) : Result[] {\n",
    "    use qs = Qubit[N];\n",
    "    ApplyToEach(H, qs);\n",
    "\n",
    "    for i in 1 .. iterations {\n",
    "        AlternatingBitStringOracle(qs);\n",
    "        Diffusion(qs);\n",
    "    }\n",
    "    return ForEach(M, qs);\n",
    "}"
   ]
  },
  {
   "cell_type": "code",
   "execution_count": null,
   "metadata": {},
   "outputs": [],
   "source": [
    "Grovers.simulate(iterations=1, N=3)"
   ]
  },
  {
   "cell_type": "code",
   "execution_count": null,
   "metadata": {},
   "outputs": [],
   "source": [
    "qsharp.azure.connect(\n",
    "   resourceId=\"\",\n",
    "   location=\"\")"
   ]
  },
  {
   "cell_type": "code",
   "execution_count": null,
   "metadata": {},
   "outputs": [],
   "source": [
    "\n",
    "qsharp.azure.target(\"ionq.qpu\")"
   ]
  },
  {
   "cell_type": "code",
   "execution_count": null,
   "metadata": {},
   "outputs": [],
   "source": [
    "qsharp.azure.target(\"ionq.qpu\")\n",
    "N = 3\n",
    "iterations = 1\n",
    "qsharp.azure.submit(Grovers, iterations=iterations, N=N, shots=500, jobName=\"Grover's iterations={}, N={}\".format(iterations, N))"
   ]
  },
  {
   "cell_type": "code",
   "execution_count": null,
   "metadata": {},
   "outputs": [],
   "source": [
    "qsharp.azure.status()"
   ]
  },
  {
   "cell_type": "code",
   "execution_count": null,
   "metadata": {},
   "outputs": [],
   "source": [
    "def plot_job_results(id, iter, sim):\n",
    "    output = qsharp.azure.output(id)\n",
    "    print(output)\n",
    "    keys = list(output.keys())\n",
    "    keys = [key.replace(\",\", \"\") for key in keys]\n",
    "    keyLen = len(keys[0]) - 2\n",
    "    firstBitString = \"\"\n",
    "    secondBitString = \"\"\n",
    "    for i in range(keyLen):\n",
    "        firstBitString += str((i+1)%2)\n",
    "        secondBitString += str(i%2)\n",
    "    secondBitString = \"[{}]\".format(secondBitString)\n",
    "    firstBitString = \"[{}]\".format(firstBitString)\n",
    "    outputFreq = list(output.values())\n",
    "\n",
    "    firstBitStringLoc = min(keys.index(firstBitString), keys.index(secondBitString))\n",
    "    secondBitStringLoc = max(keys.index(firstBitString), keys.index(secondBitString))\n",
    "\n",
    "    plt.bar(keys[0:firstBitStringLoc], outputFreq[0:firstBitStringLoc], color = \"blue\")\n",
    "    plt.bar(keys[firstBitStringLoc], outputFreq[firstBitStringLoc], color = \"red\")\n",
    "    plt.bar(keys[firstBitStringLoc+1:secondBitStringLoc], outputFreq[firstBitStringLoc+1:secondBitStringLoc], color = \"blue\")\n",
    "    plt.bar(keys[secondBitStringLoc], outputFreq[secondBitStringLoc], color = \"red\")\n",
    "    plt.bar(keys[secondBitStringLoc+1:], outputFreq[secondBitStringLoc+1:], color = \"blue\")\n",
    "    plt.xticks(rotation=90)\n",
    "    plt.title(\"{} results for N = {} iter = {}\".format(sim, keyLen, iter))\n",
    "    plt.show()"
   ]
  },
  {
   "cell_type": "code",
   "execution_count": null,
   "metadata": {},
   "outputs": [],
   "source": [
    "plot_job_results(\"\", iterations, \"(target name)\")"
   ]
  }
 ],
 "metadata": {
  "interpreter": {
   "hash": "81dee2cd6cea41cbe3e439a16d5bc7fdfb70c699fad32b3bda38329b5ea8f91b"
  },
  "kernelspec": {
   "display_name": "Python 3.9.12 64-bit ('base': conda)",
   "name": "python3"
  },
  "language_info": {
   "codemirror_mode": {
    "name": "ipython",
    "version": 3
   },
   "file_extension": ".py",
   "mimetype": "text/x-python",
   "name": "python",
   "nbconvert_exporter": "python",
   "pygments_lexer": "ipython3",
   "version": "3.9.12"
  },
  "orig_nbformat": 4
 },
 "nbformat": 4,
 "nbformat_minor": 2
}